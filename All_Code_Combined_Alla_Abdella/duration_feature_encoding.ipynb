{
 "cells": [
  {
   "cell_type": "code",
   "execution_count": 1,
   "metadata": {},
   "outputs": [
    {
     "name": "stderr",
     "output_type": "stream",
     "text": [
      "/anaconda/envs/azureml_py36/lib/python3.6/site-packages/h5py/__init__.py:34: FutureWarning: Conversion of the second argument of issubdtype from `float` to `np.floating` is deprecated. In future, it will be treated as `np.float64 == np.dtype(float).type`.\n",
      "  from ._conv import register_converters as _register_converters\n",
      "Using TensorFlow backend.\n",
      "/anaconda/envs/azureml_py36/lib/python3.6/site-packages/tensorflow/python/framework/dtypes.py:516: FutureWarning: Passing (type, 1) or '1type' as a synonym of type is deprecated; in a future version of numpy, it will be understood as (type, (1,)) / '(1,)type'.\n",
      "  _np_qint8 = np.dtype([(\"qint8\", np.int8, 1)])\n",
      "/anaconda/envs/azureml_py36/lib/python3.6/site-packages/tensorflow/python/framework/dtypes.py:517: FutureWarning: Passing (type, 1) or '1type' as a synonym of type is deprecated; in a future version of numpy, it will be understood as (type, (1,)) / '(1,)type'.\n",
      "  _np_quint8 = np.dtype([(\"quint8\", np.uint8, 1)])\n",
      "/anaconda/envs/azureml_py36/lib/python3.6/site-packages/tensorflow/python/framework/dtypes.py:518: FutureWarning: Passing (type, 1) or '1type' as a synonym of type is deprecated; in a future version of numpy, it will be understood as (type, (1,)) / '(1,)type'.\n",
      "  _np_qint16 = np.dtype([(\"qint16\", np.int16, 1)])\n",
      "/anaconda/envs/azureml_py36/lib/python3.6/site-packages/tensorflow/python/framework/dtypes.py:519: FutureWarning: Passing (type, 1) or '1type' as a synonym of type is deprecated; in a future version of numpy, it will be understood as (type, (1,)) / '(1,)type'.\n",
      "  _np_quint16 = np.dtype([(\"quint16\", np.uint16, 1)])\n",
      "/anaconda/envs/azureml_py36/lib/python3.6/site-packages/tensorflow/python/framework/dtypes.py:520: FutureWarning: Passing (type, 1) or '1type' as a synonym of type is deprecated; in a future version of numpy, it will be understood as (type, (1,)) / '(1,)type'.\n",
      "  _np_qint32 = np.dtype([(\"qint32\", np.int32, 1)])\n",
      "/anaconda/envs/azureml_py36/lib/python3.6/site-packages/tensorflow/python/framework/dtypes.py:525: FutureWarning: Passing (type, 1) or '1type' as a synonym of type is deprecated; in a future version of numpy, it will be understood as (type, (1,)) / '(1,)type'.\n",
      "  np_resource = np.dtype([(\"resource\", np.ubyte, 1)])\n",
      "/anaconda/envs/azureml_py36/lib/python3.6/site-packages/tensorboard/compat/tensorflow_stub/dtypes.py:541: FutureWarning: Passing (type, 1) or '1type' as a synonym of type is deprecated; in a future version of numpy, it will be understood as (type, (1,)) / '(1,)type'.\n",
      "  _np_qint8 = np.dtype([(\"qint8\", np.int8, 1)])\n",
      "/anaconda/envs/azureml_py36/lib/python3.6/site-packages/tensorboard/compat/tensorflow_stub/dtypes.py:542: FutureWarning: Passing (type, 1) or '1type' as a synonym of type is deprecated; in a future version of numpy, it will be understood as (type, (1,)) / '(1,)type'.\n",
      "  _np_quint8 = np.dtype([(\"quint8\", np.uint8, 1)])\n",
      "/anaconda/envs/azureml_py36/lib/python3.6/site-packages/tensorboard/compat/tensorflow_stub/dtypes.py:543: FutureWarning: Passing (type, 1) or '1type' as a synonym of type is deprecated; in a future version of numpy, it will be understood as (type, (1,)) / '(1,)type'.\n",
      "  _np_qint16 = np.dtype([(\"qint16\", np.int16, 1)])\n",
      "/anaconda/envs/azureml_py36/lib/python3.6/site-packages/tensorboard/compat/tensorflow_stub/dtypes.py:544: FutureWarning: Passing (type, 1) or '1type' as a synonym of type is deprecated; in a future version of numpy, it will be understood as (type, (1,)) / '(1,)type'.\n",
      "  _np_quint16 = np.dtype([(\"quint16\", np.uint16, 1)])\n",
      "/anaconda/envs/azureml_py36/lib/python3.6/site-packages/tensorboard/compat/tensorflow_stub/dtypes.py:545: FutureWarning: Passing (type, 1) or '1type' as a synonym of type is deprecated; in a future version of numpy, it will be understood as (type, (1,)) / '(1,)type'.\n",
      "  _np_qint32 = np.dtype([(\"qint32\", np.int32, 1)])\n",
      "/anaconda/envs/azureml_py36/lib/python3.6/site-packages/tensorboard/compat/tensorflow_stub/dtypes.py:550: FutureWarning: Passing (type, 1) or '1type' as a synonym of type is deprecated; in a future version of numpy, it will be understood as (type, (1,)) / '(1,)type'.\n",
      "  np_resource = np.dtype([(\"resource\", np.ubyte, 1)])\n"
     ]
    }
   ],
   "source": [
    "from collections import Counter \n",
    "from sklearn.datasets import make_classification \n",
    "\n",
    "import numpy as np \n",
    "import pandas as pd \n",
    "import pickle as pk\n",
    "\n",
    "import xam\n",
    "from imblearn.over_sampling import RandomOverSampler\n",
    "\n",
    "from matplotlib import pyplot as plt\n",
    "import pickle as pk"
   ]
  },
  {
   "cell_type": "code",
   "execution_count": 2,
   "metadata": {},
   "outputs": [],
   "source": [
    "data_df = pd.read_csv('data/AI_ML_OrderExport_0812_v1.csv')\n",
    "\n",
    "# selected_df = data_df[feature_list]\n",
    "selected_df = data_df"
   ]
  },
  {
   "cell_type": "code",
   "execution_count": 3,
   "metadata": {},
   "outputs": [
    {
     "data": {
      "text/html": [
       "<div>\n",
       "<style scoped>\n",
       "    .dataframe tbody tr th:only-of-type {\n",
       "        vertical-align: middle;\n",
       "    }\n",
       "\n",
       "    .dataframe tbody tr th {\n",
       "        vertical-align: top;\n",
       "    }\n",
       "\n",
       "    .dataframe thead th {\n",
       "        text-align: right;\n",
       "    }\n",
       "</style>\n",
       "<table border=\"1\" class=\"dataframe\">\n",
       "  <thead>\n",
       "    <tr style=\"text-align: right;\">\n",
       "      <th></th>\n",
       "      <th>FRAUDNET_SCORE</th>\n",
       "      <th>TOTAL_PRICE</th>\n",
       "      <th>TYPE1</th>\n",
       "      <th>MAKE1</th>\n",
       "      <th>MODEL1</th>\n",
       "      <th>PRICE1</th>\n",
       "      <th>TYPE2</th>\n",
       "      <th>MAKE2</th>\n",
       "      <th>MODEL2</th>\n",
       "      <th>PRICE2</th>\n",
       "      <th>...</th>\n",
       "      <th>INTERNAL_CREDIT_CHECK_DONE</th>\n",
       "      <th>EXTERNAL_CREDIT_CHECK_DONE</th>\n",
       "      <th>APPROVED_LINES</th>\n",
       "      <th>EXTERNAL_APPROVED_LINES</th>\n",
       "      <th>IDA_RESULT</th>\n",
       "      <th>FRAUDNET_RESULT</th>\n",
       "      <th>HOUR_OF_DAY</th>\n",
       "      <th>ORDER_HOLD_DURATION_MINS</th>\n",
       "      <th>ACTIVE_WATCH_RESULT</th>\n",
       "      <th>AW_REASON</th>\n",
       "    </tr>\n",
       "  </thead>\n",
       "  <tbody>\n",
       "    <tr>\n",
       "      <td>0</td>\n",
       "      <td>NaN</td>\n",
       "      <td>261.36</td>\n",
       "      <td>Phone</td>\n",
       "      <td>LG</td>\n",
       "      <td>Stylo 4 Black 16GB</td>\n",
       "      <td>239.99</td>\n",
       "      <td>NaN</td>\n",
       "      <td>NaN</td>\n",
       "      <td>NaN</td>\n",
       "      <td>NaN</td>\n",
       "      <td>...</td>\n",
       "      <td>Y</td>\n",
       "      <td>N</td>\n",
       "      <td>5</td>\n",
       "      <td>0</td>\n",
       "      <td>GREEN</td>\n",
       "      <td>NaN</td>\n",
       "      <td>16</td>\n",
       "      <td>17.25</td>\n",
       "      <td>GREEN</td>\n",
       "      <td>good_order</td>\n",
       "    </tr>\n",
       "    <tr>\n",
       "      <td>1</td>\n",
       "      <td>NaN</td>\n",
       "      <td>131.46</td>\n",
       "      <td>Phone</td>\n",
       "      <td>Motorola</td>\n",
       "      <td>moto e5 play Black 16GB</td>\n",
       "      <td>119.99</td>\n",
       "      <td>NaN</td>\n",
       "      <td>NaN</td>\n",
       "      <td>NaN</td>\n",
       "      <td>NaN</td>\n",
       "      <td>...</td>\n",
       "      <td>Y</td>\n",
       "      <td>Y</td>\n",
       "      <td>0</td>\n",
       "      <td>2</td>\n",
       "      <td>GREEN</td>\n",
       "      <td>NaN</td>\n",
       "      <td>21</td>\n",
       "      <td>21.18</td>\n",
       "      <td>GREEN</td>\n",
       "      <td>good_order</td>\n",
       "    </tr>\n",
       "    <tr>\n",
       "      <td>2</td>\n",
       "      <td>200.0</td>\n",
       "      <td>842.32</td>\n",
       "      <td>Phone</td>\n",
       "      <td>Apple</td>\n",
       "      <td>iPhone XR 128GB Black</td>\n",
       "      <td>799.99</td>\n",
       "      <td>NaN</td>\n",
       "      <td>NaN</td>\n",
       "      <td>NaN</td>\n",
       "      <td>NaN</td>\n",
       "      <td>...</td>\n",
       "      <td>Y</td>\n",
       "      <td>N</td>\n",
       "      <td>5</td>\n",
       "      <td>0</td>\n",
       "      <td>GREEN</td>\n",
       "      <td>APPROVE</td>\n",
       "      <td>1</td>\n",
       "      <td>12.33</td>\n",
       "      <td>GREEN</td>\n",
       "      <td>good_order</td>\n",
       "    </tr>\n",
       "    <tr>\n",
       "      <td>3</td>\n",
       "      <td>NaN</td>\n",
       "      <td>129.12</td>\n",
       "      <td>Phone</td>\n",
       "      <td>Motorola</td>\n",
       "      <td>moto e5 play Black 16GB</td>\n",
       "      <td>119.99</td>\n",
       "      <td>NaN</td>\n",
       "      <td>NaN</td>\n",
       "      <td>NaN</td>\n",
       "      <td>NaN</td>\n",
       "      <td>...</td>\n",
       "      <td>Y</td>\n",
       "      <td>N</td>\n",
       "      <td>5</td>\n",
       "      <td>0</td>\n",
       "      <td>GREEN</td>\n",
       "      <td>NaN</td>\n",
       "      <td>21</td>\n",
       "      <td>29.82</td>\n",
       "      <td>GREEN</td>\n",
       "      <td>good_order</td>\n",
       "    </tr>\n",
       "    <tr>\n",
       "      <td>4</td>\n",
       "      <td>NaN</td>\n",
       "      <td>128.46</td>\n",
       "      <td>Phone</td>\n",
       "      <td>Motorola</td>\n",
       "      <td>moto e5 play Black 16GB</td>\n",
       "      <td>119.99</td>\n",
       "      <td>NaN</td>\n",
       "      <td>NaN</td>\n",
       "      <td>NaN</td>\n",
       "      <td>NaN</td>\n",
       "      <td>...</td>\n",
       "      <td>Y</td>\n",
       "      <td>N</td>\n",
       "      <td>5</td>\n",
       "      <td>0</td>\n",
       "      <td>GREEN</td>\n",
       "      <td>NaN</td>\n",
       "      <td>14</td>\n",
       "      <td>17.43</td>\n",
       "      <td>GREEN</td>\n",
       "      <td>good_order</td>\n",
       "    </tr>\n",
       "  </tbody>\n",
       "</table>\n",
       "<p>5 rows × 65 columns</p>\n",
       "</div>"
      ],
      "text/plain": [
       "   FRAUDNET_SCORE  TOTAL_PRICE  TYPE1     MAKE1                    MODEL1  \\\n",
       "0             NaN       261.36  Phone        LG       Stylo 4 Black 16GB    \n",
       "1             NaN       131.46  Phone  Motorola  moto e5 play Black 16GB    \n",
       "2           200.0       842.32  Phone     Apple    iPhone XR 128GB Black    \n",
       "3             NaN       129.12  Phone  Motorola  moto e5 play Black 16GB    \n",
       "4             NaN       128.46  Phone  Motorola  moto e5 play Black 16GB    \n",
       "\n",
       "   PRICE1 TYPE2 MAKE2 MODEL2  PRICE2  ... INTERNAL_CREDIT_CHECK_DONE  \\\n",
       "0  239.99   NaN   NaN    NaN     NaN  ...                          Y   \n",
       "1  119.99   NaN   NaN    NaN     NaN  ...                          Y   \n",
       "2  799.99   NaN   NaN    NaN     NaN  ...                          Y   \n",
       "3  119.99   NaN   NaN    NaN     NaN  ...                          Y   \n",
       "4  119.99   NaN   NaN    NaN     NaN  ...                          Y   \n",
       "\n",
       "  EXTERNAL_CREDIT_CHECK_DONE APPROVED_LINES  EXTERNAL_APPROVED_LINES  \\\n",
       "0                          N              5                        0   \n",
       "1                          Y              0                        2   \n",
       "2                          N              5                        0   \n",
       "3                          N              5                        0   \n",
       "4                          N              5                        0   \n",
       "\n",
       "  IDA_RESULT FRAUDNET_RESULT HOUR_OF_DAY  ORDER_HOLD_DURATION_MINS  \\\n",
       "0      GREEN             NaN          16                     17.25   \n",
       "1      GREEN             NaN          21                     21.18   \n",
       "2      GREEN         APPROVE           1                     12.33   \n",
       "3      GREEN             NaN          21                     29.82   \n",
       "4      GREEN             NaN          14                     17.43   \n",
       "\n",
       "  ACTIVE_WATCH_RESULT   AW_REASON  \n",
       "0               GREEN  good_order  \n",
       "1               GREEN  good_order  \n",
       "2               GREEN  good_order  \n",
       "3               GREEN  good_order  \n",
       "4               GREEN  good_order  \n",
       "\n",
       "[5 rows x 65 columns]"
      ]
     },
     "execution_count": 3,
     "metadata": {},
     "output_type": "execute_result"
    }
   ],
   "source": [
    "selected_df.head()"
   ]
  },
  {
   "cell_type": "code",
   "execution_count": 4,
   "metadata": {},
   "outputs": [],
   "source": [
    "selected_df.drop(columns=['AW_REASON', 'ACTIVE_WATCH_RESULT'], inplace=True)"
   ]
  },
  {
   "cell_type": "code",
   "execution_count": 5,
   "metadata": {},
   "outputs": [
    {
     "data": {
      "text/plain": [
       "(79841, 63)"
      ]
     },
     "execution_count": 5,
     "metadata": {},
     "output_type": "execute_result"
    }
   ],
   "source": [
    "selected_df.shape"
   ]
  },
  {
   "cell_type": "code",
   "execution_count": 6,
   "metadata": {},
   "outputs": [
    {
     "data": {
      "text/plain": [
       "count    79841.000000\n",
       "mean        33.427132\n",
       "std         59.643640\n",
       "min          5.200000\n",
       "25%         13.870000\n",
       "50%         18.850000\n",
       "75%         25.150000\n",
       "max       9997.220000\n",
       "Name: ORDER_HOLD_DURATION_MINS, dtype: float64"
      ]
     },
     "execution_count": 6,
     "metadata": {},
     "output_type": "execute_result"
    }
   ],
   "source": [
    "selected_df['ORDER_HOLD_DURATION_MINS'].describe()"
   ]
  },
  {
   "cell_type": "code",
   "execution_count": 7,
   "metadata": {},
   "outputs": [],
   "source": [
    "# reduced_df = selected_df[selected_df['ORDER_HOLD_DURATION_MINS'] <= 440]\n",
    "reduced_df = selected_df[selected_df['ORDER_HOLD_DURATION_MINS'] <= 150]"
   ]
  },
  {
   "cell_type": "code",
   "execution_count": 8,
   "metadata": {},
   "outputs": [
    {
     "data": {
      "text/plain": [
       "array([[<matplotlib.axes._subplots.AxesSubplot object at 0x7f236083c748>]],\n",
       "      dtype=object)"
      ]
     },
     "execution_count": 8,
     "metadata": {},
     "output_type": "execute_result"
    },
    {
     "data": {
      "image/png": "[encoded data removed]",
      "text/plain": [
       "<Figure size 432x288 with 1 Axes>"
      ]
     },
     "metadata": {
      "needs_background": "light"
     },
     "output_type": "display_data"
    }
   ],
   "source": [
    "reduced_df.hist(column='ORDER_HOLD_DURATION_MINS')"
   ]
  },
  {
   "cell_type": "code",
   "execution_count": 9,
   "metadata": {},
   "outputs": [
    {
     "name": "stderr",
     "output_type": "stream",
     "text": [
      "/anaconda/envs/azureml_py36/lib/python3.6/site-packages/pandas/core/frame.py:4223: SettingWithCopyWarning: \n",
      "A value is trying to be set on a copy of a slice from a DataFrame\n",
      "\n",
      "See the caveats in the documentation: http://pandas.pydata.org/pandas-docs/stable/user_guide/indexing.html#returning-a-view-versus-a-copy\n",
      "  return super().rename(**kwargs)\n"
     ]
    }
   ],
   "source": [
    "reduced_df.rename(columns={'ORDER_HOLD_DURATION_MINS':'label'}, \n",
    "                 inplace=True)"
   ]
  },
  {
   "cell_type": "code",
   "execution_count": 10,
   "metadata": {},
   "outputs": [],
   "source": [
    "def Bayesiantarget(df):\n",
    "    data = df\n",
    "    data_columns = df.columns.tolist()\n",
    "    data_columns.remove('label')\n",
    "    X = df[data_columns]\n",
    "#     print(X)\n",
    "    y = df[['label']]\n",
    "#     print(y)\n",
    "    encoder = xam.feature_extraction.BayesianTargetEncoder(\n",
    "        columns= data_columns,\n",
    "        prior_weight=3,\n",
    "        suffix='').fit(X, y['label'])\n",
    "    Bayesian_encoded = encoder.transform(X)\n",
    "    Bayesian_encoded = Bayesian_encoded.fillna(0)\n",
    "#     Bayesian_encoded = Bayesian_encoded.fillna(0)\n",
    "\n",
    "    return Bayesian_encoded, y, encoder "
   ]
  },
  {
   "cell_type": "code",
   "execution_count": 11,
   "metadata": {},
   "outputs": [
    {
     "name": "stderr",
     "output_type": "stream",
     "text": [
      "/anaconda/envs/azureml_py36/lib/python3.6/site-packages/xam/feature_extraction/encoding/bayesian_target.py:84: SettingWithCopyWarning: \n",
      "A value is trying to be set on a copy of a slice from a DataFrame.\n",
      "Try using .loc[row_indexer,col_indexer] = value instead\n",
      "\n",
      "See the caveats in the documentation: http://pandas.pydata.org/pandas-docs/stable/user_guide/indexing.html#returning-a-view-versus-a-copy\n",
      "  X[name + self.suffix] = x.map(posteriors).fillna(self.prior_).astype(float)\n"
     ]
    }
   ],
   "source": [
    "X, y, encoder = Bayesiantarget(reduced_df)\n",
    "\n",
    "X_Bayesian = pd.DataFrame(X)\n",
    "y_Bayesian = pd.DataFrame(y)\n",
    "data = [X_Bayesian, y_Bayesian]\n",
    "data = pd.concat(data, axis=1, sort=False)"
   ]
  },
  {
   "cell_type": "code",
   "execution_count": 14,
   "metadata": {},
   "outputs": [],
   "source": [
    "with open('models/duration_encoder_150.pkl', 'wb') as encoder_file:\n",
    "    pk.dump(encoder, encoder_file)"
   ]
  },
  {
   "cell_type": "code",
   "execution_count": 12,
   "metadata": {},
   "outputs": [
    {
     "data": {
      "text/plain": [
       "(77237, 63)"
      ]
     },
     "execution_count": 12,
     "metadata": {},
     "output_type": "execute_result"
    }
   ],
   "source": [
    "data.shape"
   ]
  },
  {
   "cell_type": "code",
   "execution_count": 13,
   "metadata": {},
   "outputs": [],
   "source": [
    "data.to_csv('data/duration_encoded_full_150.csv')"
   ]
  },
  {
   "cell_type": "code",
   "execution_count": 18,
   "metadata": {},
   "outputs": [
    {
     "data": {
      "text/plain": [
       "(79768, 63)"
      ]
     },
     "execution_count": 18,
     "metadata": {},
     "output_type": "execute_result"
    }
   ],
   "source": [
    "data.shape"
   ]
  },
  {
   "cell_type": "code",
   "execution_count": null,
   "metadata": {},
   "outputs": [],
   "source": []
  },
  {
   "cell_type": "code",
   "execution_count": null,
   "metadata": {},
   "outputs": [],
   "source": []
  }
 ],
 "metadata": {
  "kernelspec": {
   "display_name": "Python 3.6 - AzureML",
   "language": "python",
   "name": "python3-azureml"
  },
  "language_info": {
   "codemirror_mode": {
    "name": "ipython",
    "version": 3
   },
   "file_extension": ".py",
   "mimetype": "text/x-python",
   "name": "python",
   "nbconvert_exporter": "python",
   "pygments_lexer": "ipython3",
   "version": "3.6.9"
  }
 },
 "nbformat": 4,
 "nbformat_minor": 2
}
